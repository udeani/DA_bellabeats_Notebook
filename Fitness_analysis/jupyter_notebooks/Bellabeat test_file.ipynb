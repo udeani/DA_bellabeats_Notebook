{
 "cells": [
  {
   "cell_type": "markdown",
   "id": "3fda6911",
   "metadata": {},
   "source": [
    "# Google Data Analyst Capstone Project: Bellabeat Fitness Insight\n",
    "## Using Python and Tablaeu"
   ]
  },
  {
   "cell_type": "markdown",
   "id": "2ec98f80",
   "metadata": {},
   "source": [
    "## Introduction"
   ]
  },
  {
   "cell_type": "markdown",
   "id": "b9574590",
   "metadata": {},
   "source": []
  },
  {
   "cell_type": "markdown",
   "id": "fea161a7",
   "metadata": {},
   "source": [
    "## STAGE 1\n",
    "### 1.1 ASK\n"
   ]
  },
  {
   "cell_type": "markdown",
   "id": "e5cc7079",
   "metadata": {},
   "source": [
    "**Bellabeats Products**\n",
    "\n",
    "Bellabeats offers a range of products that comes as a wearable, jewelry or mobile application. Thus listed below:\n",
    "\n",
    "**Bellabeat app**: The Bellabeat app provides users with health data related to their activity, sleep, stress,\n",
    "menstrual cycle, and mindfulness habits. This data can help users better understand their current habits and\n",
    "make healthy decisions. The Bellabeat app connects to their line of smart wellness products.\n",
    "\n",
    "**Leaf**: Tracker can be worn as a bracelet, necklace, or clip. The Leaf tracker connects to the Bellabeat app to track activity, sleep, and stress.\n",
    "\n",
    "**Time**: This wellness watch combines the timeless look of a classic timepiece with smart technology to track user\n",
    "activity, sleep, and stress. The Time watch connects to the Bellabeat app to provide you with insights into your\n",
    "daily wellness.\n",
    "\n",
    "**Spring**: This is a water bottle that tracks daily water intake using smart technology to ensure that you are\n",
    "appropriately hydrated throughout the day. The Spring bottle connects to the Bellabeat app to track your\n",
    "hydration levels.\n",
    "\n",
    "**Ivy**: a health tracker disguised as smart jewelry.\n",
    "\n",
    "**Bellabeat membership**: Bellabeat also offers a subscription-based membership program for users.\n",
    "Membership gives users 24/7 access to fully personalized guidance on nutrition, activity, sleep, health and beauty, and mindfulness based on their lifestyle and goals."
   ]
  },
  {
   "cell_type": "markdown",
   "id": "9333cb1f",
   "metadata": {},
   "source": [
    "### 1.2 PREPARE"
   ]
  },
  {
   "cell_type": "markdown",
   "id": "0acf79fc",
   "metadata": {},
   "source": [
    "what data source are we using?\n"
   ]
  },
  {
   "cell_type": "code",
   "execution_count": 2,
   "id": "75af1f63",
   "metadata": {},
   "outputs": [
    {
     "ename": "SyntaxError",
     "evalue": "invalid syntax (4065508134.py, line 1)",
     "output_type": "error",
     "traceback": [
      "\u001b[0;36m  File \u001b[0;32m\"/tmp/ipykernel_3501/4065508134.py\"\u001b[0;36m, line \u001b[0;32m1\u001b[0m\n\u001b[0;31m    what data source are we using\u001b[0m\n\u001b[0m         ^\u001b[0m\n\u001b[0;31mSyntaxError\u001b[0m\u001b[0;31m:\u001b[0m invalid syntax\n"
     ]
    }
   ],
   "source": [
    "what data source are we using"
   ]
  },
  {
   "cell_type": "markdown",
   "id": "4fb88fd4",
   "metadata": {},
   "source": [
    "## STAGE 2\n",
    "### 2.1 PROCESS and exploration"
   ]
  },
  {
   "cell_type": "code",
   "execution_count": 3,
   "id": "df6cd435",
   "metadata": {},
   "outputs": [],
   "source": [
    "# importing necessary modules\n",
    "\n",
    "import sqlite3\n",
    "import pandas as pd\n",
    "import glob\n",
    "import seaborn as sns\n",
    "import matplotlib.pyplot as plt"
   ]
  },
  {
   "cell_type": "markdown",
   "id": "b1c6dee4",
   "metadata": {},
   "source": [
    "#### Using glob module to check the contents of the unzipped files"
   ]
  },
  {
   "cell_type": "code",
   "execution_count": 4,
   "id": "2ff0f4a6",
   "metadata": {},
   "outputs": [
    {
     "name": "stdout",
     "output_type": "stream",
     "text": [
      "0 ../Fitabase Data 4.12.16-5.12.16/hourlyIntensities_merged.csv\n",
      "1 ../Fitabase Data 4.12.16-5.12.16/minuteIntensitiesWide_merged.csv\n",
      "2 ../Fitabase Data 4.12.16-5.12.16/dailyCalories_merged.csv\n",
      "3 ../Fitabase Data 4.12.16-5.12.16/minuteCaloriesWide_merged.csv\n",
      "4 ../Fitabase Data 4.12.16-5.12.16/sleepDay_merged.csv\n",
      "5 ../Fitabase Data 4.12.16-5.12.16/minuteStepsWide_merged.csv\n",
      "6 ../Fitabase Data 4.12.16-5.12.16/minuteMETsNarrow_merged.csv\n",
      "7 ../Fitabase Data 4.12.16-5.12.16/dailySteps_merged.csv\n",
      "8 ../Fitabase Data 4.12.16-5.12.16/hourlySteps_merged.csv\n",
      "9 ../Fitabase Data 4.12.16-5.12.16/weightLogInfo_merged.csv\n",
      "10 ../Fitabase Data 4.12.16-5.12.16/hourlyCalories_merged.csv\n",
      "11 ../Fitabase Data 4.12.16-5.12.16/dailyActivity_merged.csv\n",
      "12 ../Fitabase Data 4.12.16-5.12.16/dailyIntensities_merged.csv\n",
      "13 ../Fitabase Data 4.12.16-5.12.16/minuteStepsNarrow_merged.csv\n",
      "14 ../Fitabase Data 4.12.16-5.12.16/minuteSleep_merged.csv\n",
      "15 ../Fitabase Data 4.12.16-5.12.16/minuteIntensitiesNarrow_merged.csv\n",
      "16 ../Fitabase Data 4.12.16-5.12.16/minuteCaloriesNarrow_merged.csv\n",
      "17 ../Fitabase Data 4.12.16-5.12.16/heartrate_seconds_merged.csv\n"
     ]
    }
   ],
   "source": [
    "file_path = \"../Fitabase Data 4.12.16-5.12.16/*.csv\"\n",
    "file_list = []\n",
    "n = 0\n",
    "\n",
    "for file in glob.glob(file_path):\n",
    "    file_list.append(file)\n",
    "    print(f'{n} {file}')\n",
    "    n+=1"
   ]
  },
  {
   "cell_type": "code",
   "execution_count": 5,
   "id": "148b3a89",
   "metadata": {},
   "outputs": [
    {
     "name": "stdout",
     "output_type": "stream",
     "text": [
      "           Id         ActivityMinute  METs\n",
      "0  1503960366  4/12/2016 12:00:00 AM    10\n",
      "1  1503960366  4/12/2016 12:01:00 AM    10\n",
      "2  1503960366  4/12/2016 12:02:00 AM    10\n",
      "                 Id        ActivityMinute  METs\n",
      "1325577  8877689391  5/12/2016 1:57:00 PM    11\n",
      "1325578  8877689391  5/12/2016 1:58:00 PM    11\n",
      "1325579  8877689391  5/12/2016 1:59:00 PM    11\n"
     ]
    },
    {
     "data": {
      "text/plain": [
       "Int64Index([1927972279, 2026352035, 2873212765, 4558609924, 1624580081,\n",
       "            4388161847, 8053475328, 2022484408, 2320127002, 8877689391,\n",
       "            8378563200, 7086361926, 4445114986, 4020332650, 6962181067,\n",
       "            1844505072, 4702921684, 5553957443, 4319703577, 8583815059,\n",
       "            1503960366, 5577150313, 1644430081, 3977333714, 8792009665,\n",
       "            6290855005, 6117666160, 6775888955, 7007744171, 3372868164,\n",
       "            8253242879, 2347167796, 4057192912],\n",
       "           dtype='int64')"
      ]
     },
     "execution_count": 5,
     "metadata": {},
     "output_type": "execute_result"
    }
   ],
   "source": [
    "header_test = pd.read_csv(file_list[6])\n",
    "print(header_test.head(3))\n",
    "print(header_test.tail(3))\n",
    "header_test[\"Id\"].value_counts().index"
   ]
  },
  {
   "cell_type": "markdown",
   "id": "7fcb80d1",
   "metadata": {},
   "source": [
    "##### Checking the IDs' of activity differences"
   ]
  },
  {
   "cell_type": "code",
   "execution_count": 6,
   "id": "a7e3076f",
   "metadata": {},
   "outputs": [
    {
     "name": "stdout",
     "output_type": "stream",
     "text": [
      "0. Unique IDs in hourlyIntensities_merged.csv is 33\n",
      "1. Unique IDs in minuteIntensitiesWide_merged.csv is 33\n",
      "2. Unique IDs in dailyCalories_merged.csv is 33\n",
      "3. Unique IDs in minuteCaloriesWide_merged.csv is 33\n",
      "4. Unique IDs in sleepDay_merged.csv is 24\n",
      "5. Unique IDs in minuteStepsWide_merged.csv is 33\n",
      "6. Unique IDs in minuteMETsNarrow_merged.csv is 33\n",
      "7. Unique IDs in dailySteps_merged.csv is 33\n",
      "8. Unique IDs in hourlySteps_merged.csv is 33\n",
      "9. Unique IDs in weightLogInfo_merged.csv is 8\n",
      "10. Unique IDs in hourlyCalories_merged.csv is 33\n",
      "11. Unique IDs in dailyActivity_merged.csv is 33\n",
      "12. Unique IDs in dailyIntensities_merged.csv is 33\n",
      "13. Unique IDs in minuteStepsNarrow_merged.csv is 33\n",
      "14. Unique IDs in minuteSleep_merged.csv is 24\n",
      "15. Unique IDs in minuteIntensitiesNarrow_merged.csv is 33\n",
      "16. Unique IDs in minuteCaloriesNarrow_merged.csv is 33\n",
      "17. Unique IDs in heartrate_seconds_merged.csv is 14\n"
     ]
    }
   ],
   "source": [
    "n = 0\n",
    "\n",
    "for csv in file_list:\n",
    "    \n",
    "    read_csv = pd.read_csv(csv)\n",
    "    id_count = read_csv[\"Id\"].value_counts().count()\n",
    "    \n",
    "    print(f'{n}. Unique IDs in {csv[33:]} is {id_count}')\n",
    "    n += 1"
   ]
  },
  {
   "cell_type": "markdown",
   "id": "ea1623a8",
   "metadata": {},
   "source": [
    "#### checking if daily activities contain all other daily activities"
   ]
  },
  {
   "cell_type": "code",
   "execution_count": 23,
   "id": "bc0e4e5f",
   "metadata": {},
   "outputs": [
    {
     "name": "stdout",
     "output_type": "stream",
     "text": [
      "           Id ActivityDate  TotalSteps  TotalDistance  TrackerDistance  \\\n",
      "0  1503960366    4/12/2016       13162           8.50             8.50   \n",
      "1  1503960366    4/13/2016       10735           6.97             6.97   \n",
      "\n",
      "   LoggedActivitiesDistance  VeryActiveDistance  ModeratelyActiveDistance  \\\n",
      "0                       0.0                1.88                      0.55   \n",
      "1                       0.0                1.57                      0.69   \n",
      "\n",
      "   LightActiveDistance  SedentaryActiveDistance  VeryActiveMinutes  \\\n",
      "0                 6.06                      0.0                 25   \n",
      "1                 4.71                      0.0                 21   \n",
      "\n",
      "   FairlyActiveMinutes  LightlyActiveMinutes  SedentaryMinutes  Calories  \n",
      "0                   13                   328               728      1985  \n",
      "1                   19                   217               776      1797  \n"
     ]
    },
    {
     "data": {
      "text/plain": [
       "(940, 15)"
      ]
     },
     "execution_count": 23,
     "metadata": {},
     "output_type": "execute_result"
    }
   ],
   "source": [
    "daily_ac = pd.read_csv(file_list[11])\n",
    "print(daily_ac.head(2))\n",
    "daily_ac.shape"
   ]
  },
  {
   "cell_type": "code",
   "execution_count": 25,
   "id": "172cf5b3",
   "metadata": {},
   "outputs": [
    {
     "name": "stdout",
     "output_type": "stream",
     "text": [
      "           Id ActivityDay  Calories\n",
      "0  1503960366   4/12/2016      1985\n",
      "1  1503960366   4/13/2016      1797\n"
     ]
    },
    {
     "data": {
      "text/plain": [
       "(940, 3)"
      ]
     },
     "execution_count": 25,
     "metadata": {},
     "output_type": "execute_result"
    }
   ],
   "source": [
    "aily_ac = pd.read_csv(file_list[2])\n",
    "print(aily_ac.head(2))\n",
    "aily_ac.shape"
   ]
  },
  {
   "cell_type": "markdown",
   "id": "ada53074",
   "metadata": {},
   "source": [
    "file 7 is in 11\n",
    "\n",
    "file 12, also in 11, sedentary minutes will be used to cal for waste time sitting idle of users.\n",
    "\n",
    "file 2 is in 11\n",
    "\n"
   ]
  },
  {
   "cell_type": "markdown",
   "id": "ba025c4f",
   "metadata": {},
   "source": [
    "#### checking if the user activity in minutes is equivalent to hourly or daily activity"
   ]
  },
  {
   "cell_type": "code",
   "execution_count": 13,
   "id": "3cdb62c8",
   "metadata": {},
   "outputs": [
    {
     "data": {
      "text/html": [
       "<div>\n",
       "<style scoped>\n",
       "    .dataframe tbody tr th:only-of-type {\n",
       "        vertical-align: middle;\n",
       "    }\n",
       "\n",
       "    .dataframe tbody tr th {\n",
       "        vertical-align: top;\n",
       "    }\n",
       "\n",
       "    .dataframe thead th {\n",
       "        text-align: right;\n",
       "    }\n",
       "</style>\n",
       "<table border=\"1\" class=\"dataframe\">\n",
       "  <thead>\n",
       "    <tr style=\"text-align: right;\">\n",
       "      <th></th>\n",
       "      <th>Id</th>\n",
       "      <th>ActivityDay</th>\n",
       "      <th>StepTotal</th>\n",
       "    </tr>\n",
       "  </thead>\n",
       "  <tbody>\n",
       "    <tr>\n",
       "      <th>0</th>\n",
       "      <td>1503960366</td>\n",
       "      <td>4/12/2016</td>\n",
       "      <td>13162</td>\n",
       "    </tr>\n",
       "    <tr>\n",
       "      <th>1</th>\n",
       "      <td>1503960366</td>\n",
       "      <td>4/13/2016</td>\n",
       "      <td>10735</td>\n",
       "    </tr>\n",
       "    <tr>\n",
       "      <th>2</th>\n",
       "      <td>1503960366</td>\n",
       "      <td>4/14/2016</td>\n",
       "      <td>10460</td>\n",
       "    </tr>\n",
       "    <tr>\n",
       "      <th>3</th>\n",
       "      <td>1503960366</td>\n",
       "      <td>4/15/2016</td>\n",
       "      <td>9762</td>\n",
       "    </tr>\n",
       "    <tr>\n",
       "      <th>4</th>\n",
       "      <td>1503960366</td>\n",
       "      <td>4/16/2016</td>\n",
       "      <td>12669</td>\n",
       "    </tr>\n",
       "    <tr>\n",
       "      <th>5</th>\n",
       "      <td>1503960366</td>\n",
       "      <td>4/17/2016</td>\n",
       "      <td>9705</td>\n",
       "    </tr>\n",
       "  </tbody>\n",
       "</table>\n",
       "</div>"
      ],
      "text/plain": [
       "           Id ActivityDay  StepTotal\n",
       "0  1503960366   4/12/2016      13162\n",
       "1  1503960366   4/13/2016      10735\n",
       "2  1503960366   4/14/2016      10460\n",
       "3  1503960366   4/15/2016       9762\n",
       "4  1503960366   4/16/2016      12669\n",
       "5  1503960366   4/17/2016       9705"
      ]
     },
     "execution_count": 13,
     "metadata": {},
     "output_type": "execute_result"
    }
   ],
   "source": [
    "# for 7, 5 and 13 and 8\n",
    "minute_ac = pd.read_csv(file_list[7])\n",
    "minute_ac.head(6)"
   ]
  },
  {
   "cell_type": "code",
   "execution_count": 15,
   "id": "4770e967",
   "metadata": {},
   "outputs": [
    {
     "data": {
      "text/html": [
       "<div>\n",
       "<style scoped>\n",
       "    .dataframe tbody tr th:only-of-type {\n",
       "        vertical-align: middle;\n",
       "    }\n",
       "\n",
       "    .dataframe tbody tr th {\n",
       "        vertical-align: top;\n",
       "    }\n",
       "\n",
       "    .dataframe thead th {\n",
       "        text-align: right;\n",
       "    }\n",
       "</style>\n",
       "<table border=\"1\" class=\"dataframe\">\n",
       "  <thead>\n",
       "    <tr style=\"text-align: right;\">\n",
       "      <th></th>\n",
       "      <th>Id</th>\n",
       "      <th>ActivityHour</th>\n",
       "      <th>Steps00</th>\n",
       "      <th>Steps01</th>\n",
       "      <th>Steps02</th>\n",
       "      <th>Steps03</th>\n",
       "      <th>Steps04</th>\n",
       "      <th>Steps05</th>\n",
       "      <th>Steps06</th>\n",
       "      <th>Steps07</th>\n",
       "      <th>...</th>\n",
       "      <th>Steps50</th>\n",
       "      <th>Steps51</th>\n",
       "      <th>Steps52</th>\n",
       "      <th>Steps53</th>\n",
       "      <th>Steps54</th>\n",
       "      <th>Steps55</th>\n",
       "      <th>Steps56</th>\n",
       "      <th>Steps57</th>\n",
       "      <th>Steps58</th>\n",
       "      <th>Steps59</th>\n",
       "    </tr>\n",
       "  </thead>\n",
       "  <tbody>\n",
       "    <tr>\n",
       "      <th>0</th>\n",
       "      <td>1503960366</td>\n",
       "      <td>4/13/2016 12:00:00 AM</td>\n",
       "      <td>4</td>\n",
       "      <td>16</td>\n",
       "      <td>0</td>\n",
       "      <td>0</td>\n",
       "      <td>0</td>\n",
       "      <td>9</td>\n",
       "      <td>0</td>\n",
       "      <td>17</td>\n",
       "      <td>...</td>\n",
       "      <td>0</td>\n",
       "      <td>9</td>\n",
       "      <td>8</td>\n",
       "      <td>0</td>\n",
       "      <td>20</td>\n",
       "      <td>1</td>\n",
       "      <td>0</td>\n",
       "      <td>0</td>\n",
       "      <td>0</td>\n",
       "      <td>0</td>\n",
       "    </tr>\n",
       "    <tr>\n",
       "      <th>1</th>\n",
       "      <td>1503960366</td>\n",
       "      <td>4/13/2016 1:00:00 AM</td>\n",
       "      <td>0</td>\n",
       "      <td>0</td>\n",
       "      <td>0</td>\n",
       "      <td>0</td>\n",
       "      <td>0</td>\n",
       "      <td>0</td>\n",
       "      <td>0</td>\n",
       "      <td>0</td>\n",
       "      <td>...</td>\n",
       "      <td>0</td>\n",
       "      <td>0</td>\n",
       "      <td>0</td>\n",
       "      <td>0</td>\n",
       "      <td>0</td>\n",
       "      <td>0</td>\n",
       "      <td>0</td>\n",
       "      <td>0</td>\n",
       "      <td>0</td>\n",
       "      <td>0</td>\n",
       "    </tr>\n",
       "    <tr>\n",
       "      <th>2</th>\n",
       "      <td>1503960366</td>\n",
       "      <td>4/13/2016 2:00:00 AM</td>\n",
       "      <td>0</td>\n",
       "      <td>0</td>\n",
       "      <td>0</td>\n",
       "      <td>0</td>\n",
       "      <td>0</td>\n",
       "      <td>0</td>\n",
       "      <td>0</td>\n",
       "      <td>0</td>\n",
       "      <td>...</td>\n",
       "      <td>0</td>\n",
       "      <td>0</td>\n",
       "      <td>0</td>\n",
       "      <td>0</td>\n",
       "      <td>0</td>\n",
       "      <td>0</td>\n",
       "      <td>0</td>\n",
       "      <td>0</td>\n",
       "      <td>0</td>\n",
       "      <td>0</td>\n",
       "    </tr>\n",
       "    <tr>\n",
       "      <th>3</th>\n",
       "      <td>1503960366</td>\n",
       "      <td>4/13/2016 3:00:00 AM</td>\n",
       "      <td>0</td>\n",
       "      <td>0</td>\n",
       "      <td>0</td>\n",
       "      <td>0</td>\n",
       "      <td>0</td>\n",
       "      <td>0</td>\n",
       "      <td>0</td>\n",
       "      <td>0</td>\n",
       "      <td>...</td>\n",
       "      <td>0</td>\n",
       "      <td>0</td>\n",
       "      <td>0</td>\n",
       "      <td>0</td>\n",
       "      <td>0</td>\n",
       "      <td>0</td>\n",
       "      <td>0</td>\n",
       "      <td>0</td>\n",
       "      <td>0</td>\n",
       "      <td>0</td>\n",
       "    </tr>\n",
       "    <tr>\n",
       "      <th>4</th>\n",
       "      <td>1503960366</td>\n",
       "      <td>4/13/2016 4:00:00 AM</td>\n",
       "      <td>0</td>\n",
       "      <td>0</td>\n",
       "      <td>0</td>\n",
       "      <td>0</td>\n",
       "      <td>0</td>\n",
       "      <td>0</td>\n",
       "      <td>0</td>\n",
       "      <td>0</td>\n",
       "      <td>...</td>\n",
       "      <td>0</td>\n",
       "      <td>0</td>\n",
       "      <td>0</td>\n",
       "      <td>0</td>\n",
       "      <td>0</td>\n",
       "      <td>0</td>\n",
       "      <td>0</td>\n",
       "      <td>0</td>\n",
       "      <td>0</td>\n",
       "      <td>0</td>\n",
       "    </tr>\n",
       "    <tr>\n",
       "      <th>5</th>\n",
       "      <td>1503960366</td>\n",
       "      <td>4/13/2016 5:00:00 AM</td>\n",
       "      <td>0</td>\n",
       "      <td>0</td>\n",
       "      <td>0</td>\n",
       "      <td>0</td>\n",
       "      <td>0</td>\n",
       "      <td>0</td>\n",
       "      <td>0</td>\n",
       "      <td>0</td>\n",
       "      <td>...</td>\n",
       "      <td>0</td>\n",
       "      <td>0</td>\n",
       "      <td>0</td>\n",
       "      <td>0</td>\n",
       "      <td>0</td>\n",
       "      <td>0</td>\n",
       "      <td>0</td>\n",
       "      <td>0</td>\n",
       "      <td>0</td>\n",
       "      <td>0</td>\n",
       "    </tr>\n",
       "  </tbody>\n",
       "</table>\n",
       "<p>6 rows × 62 columns</p>\n",
       "</div>"
      ],
      "text/plain": [
       "           Id           ActivityHour  Steps00  Steps01  Steps02  Steps03  \\\n",
       "0  1503960366  4/13/2016 12:00:00 AM        4       16        0        0   \n",
       "1  1503960366   4/13/2016 1:00:00 AM        0        0        0        0   \n",
       "2  1503960366   4/13/2016 2:00:00 AM        0        0        0        0   \n",
       "3  1503960366   4/13/2016 3:00:00 AM        0        0        0        0   \n",
       "4  1503960366   4/13/2016 4:00:00 AM        0        0        0        0   \n",
       "5  1503960366   4/13/2016 5:00:00 AM        0        0        0        0   \n",
       "\n",
       "   Steps04  Steps05  Steps06  Steps07  ...  Steps50  Steps51  Steps52  \\\n",
       "0        0        9        0       17  ...        0        9        8   \n",
       "1        0        0        0        0  ...        0        0        0   \n",
       "2        0        0        0        0  ...        0        0        0   \n",
       "3        0        0        0        0  ...        0        0        0   \n",
       "4        0        0        0        0  ...        0        0        0   \n",
       "5        0        0        0        0  ...        0        0        0   \n",
       "\n",
       "   Steps53  Steps54  Steps55  Steps56  Steps57  Steps58  Steps59  \n",
       "0        0       20        1        0        0        0        0  \n",
       "1        0        0        0        0        0        0        0  \n",
       "2        0        0        0        0        0        0        0  \n",
       "3        0        0        0        0        0        0        0  \n",
       "4        0        0        0        0        0        0        0  \n",
       "5        0        0        0        0        0        0        0  \n",
       "\n",
       "[6 rows x 62 columns]"
      ]
     },
     "execution_count": 15,
     "metadata": {},
     "output_type": "execute_result"
    }
   ],
   "source": [
    "minute_ac = pd.read_csv(file_list[5])\n",
    "minute_ac.head(6)"
   ]
  },
  {
   "cell_type": "code",
   "execution_count": 18,
   "id": "1a899f32",
   "metadata": {},
   "outputs": [
    {
     "data": {
      "text/html": [
       "<div>\n",
       "<style scoped>\n",
       "    .dataframe tbody tr th:only-of-type {\n",
       "        vertical-align: middle;\n",
       "    }\n",
       "\n",
       "    .dataframe tbody tr th {\n",
       "        vertical-align: top;\n",
       "    }\n",
       "\n",
       "    .dataframe thead th {\n",
       "        text-align: right;\n",
       "    }\n",
       "</style>\n",
       "<table border=\"1\" class=\"dataframe\">\n",
       "  <thead>\n",
       "    <tr style=\"text-align: right;\">\n",
       "      <th></th>\n",
       "      <th>Id</th>\n",
       "      <th>ActivityMinute</th>\n",
       "      <th>Steps</th>\n",
       "    </tr>\n",
       "  </thead>\n",
       "  <tbody>\n",
       "    <tr>\n",
       "      <th>0</th>\n",
       "      <td>1503960366</td>\n",
       "      <td>4/12/2016 12:00:00 AM</td>\n",
       "      <td>0</td>\n",
       "    </tr>\n",
       "    <tr>\n",
       "      <th>1</th>\n",
       "      <td>1503960366</td>\n",
       "      <td>4/12/2016 12:01:00 AM</td>\n",
       "      <td>0</td>\n",
       "    </tr>\n",
       "    <tr>\n",
       "      <th>2</th>\n",
       "      <td>1503960366</td>\n",
       "      <td>4/12/2016 12:02:00 AM</td>\n",
       "      <td>0</td>\n",
       "    </tr>\n",
       "    <tr>\n",
       "      <th>3</th>\n",
       "      <td>1503960366</td>\n",
       "      <td>4/12/2016 12:03:00 AM</td>\n",
       "      <td>0</td>\n",
       "    </tr>\n",
       "    <tr>\n",
       "      <th>4</th>\n",
       "      <td>1503960366</td>\n",
       "      <td>4/12/2016 12:04:00 AM</td>\n",
       "      <td>0</td>\n",
       "    </tr>\n",
       "    <tr>\n",
       "      <th>5</th>\n",
       "      <td>1503960366</td>\n",
       "      <td>4/12/2016 12:05:00 AM</td>\n",
       "      <td>0</td>\n",
       "    </tr>\n",
       "  </tbody>\n",
       "</table>\n",
       "</div>"
      ],
      "text/plain": [
       "           Id         ActivityMinute  Steps\n",
       "0  1503960366  4/12/2016 12:00:00 AM      0\n",
       "1  1503960366  4/12/2016 12:01:00 AM      0\n",
       "2  1503960366  4/12/2016 12:02:00 AM      0\n",
       "3  1503960366  4/12/2016 12:03:00 AM      0\n",
       "4  1503960366  4/12/2016 12:04:00 AM      0\n",
       "5  1503960366  4/12/2016 12:05:00 AM      0"
      ]
     },
     "execution_count": 18,
     "metadata": {},
     "output_type": "execute_result"
    }
   ],
   "source": [
    "minute_ac = pd.read_csv(file_list[13])\n",
    "minute_ac.head(6)"
   ]
  },
  {
   "cell_type": "code",
   "execution_count": 20,
   "id": "dcc514d3",
   "metadata": {},
   "outputs": [
    {
     "data": {
      "text/html": [
       "<div>\n",
       "<style scoped>\n",
       "    .dataframe tbody tr th:only-of-type {\n",
       "        vertical-align: middle;\n",
       "    }\n",
       "\n",
       "    .dataframe tbody tr th {\n",
       "        vertical-align: top;\n",
       "    }\n",
       "\n",
       "    .dataframe thead th {\n",
       "        text-align: right;\n",
       "    }\n",
       "</style>\n",
       "<table border=\"1\" class=\"dataframe\">\n",
       "  <thead>\n",
       "    <tr style=\"text-align: right;\">\n",
       "      <th></th>\n",
       "      <th>Id</th>\n",
       "      <th>ActivityHour</th>\n",
       "      <th>StepTotal</th>\n",
       "    </tr>\n",
       "  </thead>\n",
       "  <tbody>\n",
       "    <tr>\n",
       "      <th>0</th>\n",
       "      <td>1503960366</td>\n",
       "      <td>4/12/2016 12:00:00 AM</td>\n",
       "      <td>373</td>\n",
       "    </tr>\n",
       "    <tr>\n",
       "      <th>1</th>\n",
       "      <td>1503960366</td>\n",
       "      <td>4/12/2016 1:00:00 AM</td>\n",
       "      <td>160</td>\n",
       "    </tr>\n",
       "    <tr>\n",
       "      <th>2</th>\n",
       "      <td>1503960366</td>\n",
       "      <td>4/12/2016 2:00:00 AM</td>\n",
       "      <td>151</td>\n",
       "    </tr>\n",
       "    <tr>\n",
       "      <th>3</th>\n",
       "      <td>1503960366</td>\n",
       "      <td>4/12/2016 3:00:00 AM</td>\n",
       "      <td>0</td>\n",
       "    </tr>\n",
       "    <tr>\n",
       "      <th>4</th>\n",
       "      <td>1503960366</td>\n",
       "      <td>4/12/2016 4:00:00 AM</td>\n",
       "      <td>0</td>\n",
       "    </tr>\n",
       "    <tr>\n",
       "      <th>5</th>\n",
       "      <td>1503960366</td>\n",
       "      <td>4/12/2016 5:00:00 AM</td>\n",
       "      <td>0</td>\n",
       "    </tr>\n",
       "    <tr>\n",
       "      <th>6</th>\n",
       "      <td>1503960366</td>\n",
       "      <td>4/12/2016 6:00:00 AM</td>\n",
       "      <td>0</td>\n",
       "    </tr>\n",
       "    <tr>\n",
       "      <th>7</th>\n",
       "      <td>1503960366</td>\n",
       "      <td>4/12/2016 7:00:00 AM</td>\n",
       "      <td>0</td>\n",
       "    </tr>\n",
       "    <tr>\n",
       "      <th>8</th>\n",
       "      <td>1503960366</td>\n",
       "      <td>4/12/2016 8:00:00 AM</td>\n",
       "      <td>250</td>\n",
       "    </tr>\n",
       "    <tr>\n",
       "      <th>9</th>\n",
       "      <td>1503960366</td>\n",
       "      <td>4/12/2016 9:00:00 AM</td>\n",
       "      <td>1864</td>\n",
       "    </tr>\n",
       "  </tbody>\n",
       "</table>\n",
       "</div>"
      ],
      "text/plain": [
       "           Id           ActivityHour  StepTotal\n",
       "0  1503960366  4/12/2016 12:00:00 AM        373\n",
       "1  1503960366   4/12/2016 1:00:00 AM        160\n",
       "2  1503960366   4/12/2016 2:00:00 AM        151\n",
       "3  1503960366   4/12/2016 3:00:00 AM          0\n",
       "4  1503960366   4/12/2016 4:00:00 AM          0\n",
       "5  1503960366   4/12/2016 5:00:00 AM          0\n",
       "6  1503960366   4/12/2016 6:00:00 AM          0\n",
       "7  1503960366   4/12/2016 7:00:00 AM          0\n",
       "8  1503960366   4/12/2016 8:00:00 AM        250\n",
       "9  1503960366   4/12/2016 9:00:00 AM       1864"
      ]
     },
     "execution_count": 20,
     "metadata": {},
     "output_type": "execute_result"
    }
   ],
   "source": [
    "minute_ac = pd.read_csv(file_list[8])\n",
    "minute_ac.head(10)"
   ]
  },
  {
   "cell_type": "markdown",
   "id": "ff4db5ad",
   "metadata": {},
   "source": [
    "for steps exploration, it was observed that the dialy steps merged will be used, which is also in data 11.\n",
    "this is due to the fact it contains all the data needed,\n",
    "data column 13, 5 and 7 will be dropped for this analysis. while data 8 will be used to find trend in exercise.\n"
   ]
  },
  {
   "cell_type": "code",
   "execution_count": null,
   "id": "340fcc36",
   "metadata": {},
   "outputs": [],
   "source": []
  },
  {
   "cell_type": "markdown",
   "id": "2f5eac44",
   "metadata": {},
   "source": [
    "### 2.2 ANALYSE"
   ]
  },
  {
   "cell_type": "code",
   "execution_count": null,
   "id": "b4a0bf5b",
   "metadata": {},
   "outputs": [],
   "source": []
  },
  {
   "cell_type": "markdown",
   "id": "e70182b0",
   "metadata": {},
   "source": [
    "## STAGE 3\n",
    "### 3.1 SHARE"
   ]
  },
  {
   "cell_type": "code",
   "execution_count": null,
   "id": "00f38b69",
   "metadata": {},
   "outputs": [],
   "source": []
  },
  {
   "cell_type": "markdown",
   "id": "7e0e945a",
   "metadata": {},
   "source": [
    "### 3.2 ACT"
   ]
  },
  {
   "cell_type": "code",
   "execution_count": null,
   "id": "06d8bb5b",
   "metadata": {},
   "outputs": [],
   "source": []
  },
  {
   "cell_type": "code",
   "execution_count": 4,
   "id": "78326b15",
   "metadata": {},
   "outputs": [],
   "source": [
    "#weightLogInfo_merged = pd.read_csv(\"../Fitabase Data 4.12.16-5.12.16/minuteStepsWide_merged.csv\")   #\"weightLogInfo_merged.db\""
   ]
  }
 ],
 "metadata": {
  "kernelspec": {
   "display_name": "Python 3 (ipykernel)",
   "language": "python",
   "name": "python3"
  },
  "language_info": {
   "codemirror_mode": {
    "name": "ipython",
    "version": 3
   },
   "file_extension": ".py",
   "mimetype": "text/x-python",
   "name": "python",
   "nbconvert_exporter": "python",
   "pygments_lexer": "ipython3",
   "version": "3.9.7"
  }
 },
 "nbformat": 4,
 "nbformat_minor": 5
}
